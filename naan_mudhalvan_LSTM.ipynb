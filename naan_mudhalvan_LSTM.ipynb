{
  "cells": [
    {
      "cell_type": "code",
      "execution_count": null,
      "metadata": {
        "colab": {
          "base_uri": "https://localhost:8080/"
        },
        "id": "a11dmPw2mhfw",
        "outputId": "7468ff44-a13c-4f8b-da51-49b12b25d4ec"
      },
      "outputs": [
        {
          "name": "stdout",
          "output_type": "stream",
          "text": [
            "Using device: cuda\n",
            "Epoch 1, Loss: 0.6553\n",
            "Epoch 2, Loss: 0.6451\n",
            "Epoch 3, Loss: 0.6087\n",
            "Epoch 4, Loss: 0.7132\n",
            "Epoch 5, Loss: 0.4351\n",
            "Epoch 6, Loss: 0.2786\n",
            "Epoch 7, Loss: 0.3789\n",
            "Accuracy: 92.43%\n"
          ]
        }
      ],
      "source": [
        "import pandas as pd\n",
        "import torch\n",
        "import torch.nn as nn\n",
        "import torch.optim as optim\n",
        "from sklearn.model_selection import train_test_split\n",
        "from sklearn.preprocessing import LabelEncoder\n",
        "from torch.utils.data import DataLoader, Dataset\n",
        "from transformers import BertTokenizer\n",
        "\n",
        "# Check for GPU\n",
        "device = torch.device('cuda' if torch.cuda.is_available() else 'cpu')\n",
        "print(f'Using device: {device}')\n",
        "\n",
        "# Load the dataset\n",
        "data = pd.read_csv('evaluation.csv', delimiter=';', engine='python', on_bad_lines='skip').head(10000)\n",
        "data2=pd.read_csv('test (1).csv', delimiter=';', engine='python', on_bad_lines='skip').head(10000)\n",
        "\n",
        "data = data.drop(columns=['Unnamed: 0'])\n",
        "data2 = data2.drop(columns=['Unnamed: 0'])\n",
        "\n",
        "# Preprocess text and labels\n",
        "texts = data['text'].astype(str)\n",
        "labels = data['label'].astype(int)\n",
        "\n",
        "texts2 = data2['text'].astype(str)\n",
        "labels2 = data2['label'].astype(int)\n",
        "\n",
        "# Encode labels\n",
        "label_encoder = LabelEncoder()\n",
        "labels = label_encoder.fit_transform(labels)\n",
        "\n",
        "labels2 = label_encoder.fit_transform(labels2)\n",
        "\n",
        "# Train-test split\n",
        "X_train, X_test, y_train, y_test = train_test_split(texts, labels, test_size=0.2, random_state=42)\n",
        "\n",
        "# Tokenizer\n",
        "tokenizer = BertTokenizer.from_pretrained('bert-base-uncased')\n",
        "\n",
        "class TextDataset(Dataset):\n",
        "    def __init__(self, texts, labels):\n",
        "        self.texts = texts\n",
        "        self.labels = labels\n",
        "\n",
        "    def __len__(self):\n",
        "        return len(self.texts)\n",
        "\n",
        "    def __getitem__(self, idx):\n",
        "        encoding = tokenizer(self.texts[idx], truncation=True, padding='max_length', max_length=200, return_tensors='pt')\n",
        "        label = torch.tensor(self.labels[idx], dtype=torch.long)\n",
        "        return encoding['input_ids'].squeeze(), encoding['attention_mask'].squeeze(), label\n",
        "\n",
        "# Dataloaders\n",
        "train_dataset = TextDataset(X_train.tolist(), y_train)\n",
        "test_dataset = TextDataset(X_test.tolist(), y_test)\n",
        "train_loader = DataLoader(train_dataset, batch_size=64, shuffle=True)\n",
        "test_loader = DataLoader(test_dataset, batch_size=64)\n",
        "\n",
        "# LSTM Model\n",
        "class FakeNewsLSTM(nn.Module):\n",
        "    def __init__(self, input_dim, hidden_dim, output_dim):\n",
        "        super(FakeNewsLSTM, self).__init__()\n",
        "        self.embedding = nn.Embedding(input_dim, 128)\n",
        "        self.lstm = nn.LSTM(128, hidden_dim, batch_first=True)\n",
        "        self.fc = nn.Linear(hidden_dim, output_dim)\n",
        "        self.dropout = nn.Dropout(0.3)\n",
        "\n",
        "    def forward(self, x):\n",
        "        embedded = self.embedding(x)\n",
        "        lstm_out, _ = self.lstm(embedded)\n",
        "        out = self.dropout(lstm_out[:, -1, :])\n",
        "        return torch.sigmoid(self.fc(out))\n",
        "\n",
        "# Model instantiation\n",
        "model = FakeNewsLSTM(30522, 64, 1).to(device)\n",
        "criterion = nn.BCELoss()\n",
        "optimizer = optim.Adam(model.parameters(), lr=0.001)\n",
        "\n",
        "# Training loop\n",
        "for epoch in range(7):\n",
        "    model.train()\n",
        "    for input_ids, attention_mask, labels in train_loader:\n",
        "        input_ids, attention_mask, labels = input_ids.to(device), attention_mask.to(device), labels.to(device).float()\n",
        "        optimizer.zero_grad()\n",
        "        outputs = model(input_ids).squeeze()\n",
        "        loss = criterion(outputs, labels)\n",
        "        loss.backward()\n",
        "        optimizer.step()\n",
        "    print(f'Epoch {epoch+1}, Loss: {loss.item():.4f}')\n",
        "\n",
        "# Evaluation\n",
        "model.eval()\n",
        "correct, total = 0, 0\n",
        "with torch.no_grad():\n",
        "    for input_ids, attention_mask, labels in test_loader:\n",
        "        input_ids, attention_mask, labels = input_ids.to(device), attention_mask.to(device), labels.to(device).float()\n",
        "        outputs = model(input_ids).squeeze()\n",
        "        predicted = (outputs > 0.5).long()\n",
        "        total += labels.size(0)\n",
        "        correct += (predicted == labels).sum().item()\n",
        "\n",
        "print(f'Accuracy: {100 * correct / total:.2f}%')\n"
      ]
    },
    {
      "cell_type": "code",
      "execution_count": null,
      "metadata": {
        "colab": {
          "base_uri": "https://localhost:8080/"
        },
        "id": "P_9JA-e33rax",
        "outputId": "4660897a-f21e-4066-9ce0-e740d86d772b"
      },
      "outputs": [
        {
          "name": "stdout",
          "output_type": "stream",
          "text": [
            "Using device: cuda\n",
            "Epoch 1, Average Loss: 0.6471\n",
            "Epoch 2, Average Loss: 0.4626\n",
            "Epoch 3, Average Loss: 0.4157\n",
            "Epoch 4, Average Loss: 0.3278\n",
            "Epoch 5, Average Loss: 0.3229\n",
            "Epoch 6, Average Loss: 0.2909\n",
            "Epoch 7, Average Loss: 0.2631\n",
            "Epoch 8, Average Loss: 0.1926\n",
            "Epoch 9, Average Loss: 0.1718\n",
            "Epoch 10, Average Loss: 0.1501\n",
            "Final Test Accuracy: 93.77%\n"
          ]
        }
      ],
      "source": [
        "import pandas as pd\n",
        "import torch\n",
        "import torch.nn as nn\n",
        "import torch.optim as optim\n",
        "from sklearn.preprocessing import LabelEncoder\n",
        "from torch.utils.data import DataLoader, Dataset\n",
        "from transformers import BertTokenizer\n",
        "import joblib\n",
        "\n",
        "# Check for GPU\n",
        "device = torch.device('cuda' if torch.cuda.is_available() else 'cpu')\n",
        "print(f'Using device: {device}')\n",
        "\n",
        "# Load the datasets\n",
        "data = pd.read_csv('train.csv', delimiter=';', engine='python', on_bad_lines='skip').head(10000)\n",
        "data2 = pd.read_csv('test (1).csv', delimiter=';', engine='python', on_bad_lines='skip').head(10000)\n",
        "\n",
        "# Drop unnecessary columns\n",
        "data = data.drop(columns=['Unnamed: 0'])\n",
        "data2 = data2.drop(columns=['Unnamed: 0'])\n",
        "\n",
        "# Preprocess text and labels\n",
        "texts = data['text'].astype(str)\n",
        "labels = data['label'].astype(int)\n",
        "\n",
        "texts2 = data2['text'].astype(str)\n",
        "labels2 = data2['label'].astype(int)\n",
        "\n",
        "# Encode labels\n",
        "label_encoder = LabelEncoder()\n",
        "labels = label_encoder.fit_transform(labels)\n",
        "labels2 = label_encoder.transform(labels2)  # Use transform to ensure same encoding\n",
        "\n",
        "# Tokenizer\n",
        "tokenizer = BertTokenizer.from_pretrained('bert-base-uncased')\n",
        "\n",
        "# Custom Dataset\n",
        "class TextDataset(Dataset):\n",
        "    def __init__(self, texts, labels):\n",
        "        self.texts = texts\n",
        "        self.labels = labels\n",
        "\n",
        "    def __len__(self):\n",
        "        return len(self.texts)\n",
        "\n",
        "    def __getitem__(self, idx):\n",
        "        encoding = tokenizer(self.texts[idx], truncation=True, padding='max_length', max_length=200, return_tensors='pt')\n",
        "        label = torch.tensor(self.labels[idx], dtype=torch.float)\n",
        "        return encoding['input_ids'].squeeze(), encoding['attention_mask'].squeeze(), label\n",
        "\n",
        "# Dataloaders\n",
        "train_dataset = TextDataset(texts.tolist(), labels)\n",
        "test_dataset = TextDataset(texts2.tolist(), labels2)\n",
        "train_loader = DataLoader(train_dataset, batch_size=64, shuffle=True)\n",
        "test_loader = DataLoader(test_dataset, batch_size=64)\n",
        "\n",
        "# LSTM Model\n",
        "class FakeNewsLSTM(nn.Module):\n",
        "    def __init__(self, input_dim, hidden_dim, output_dim):\n",
        "        super(FakeNewsLSTM, self).__init__()\n",
        "        self.embedding = nn.Embedding(input_dim, 128)\n",
        "        self.lstm = nn.LSTM(128, hidden_dim, batch_first=True)\n",
        "        self.fc = nn.Linear(hidden_dim, output_dim)\n",
        "        self.dropout = nn.Dropout(0.3)\n",
        "\n",
        "    def forward(self, x):\n",
        "        embedded = self.embedding(x)\n",
        "        lstm_out, _ = self.lstm(embedded)\n",
        "        out = self.dropout(lstm_out[:, -1, :])\n",
        "        return torch.sigmoid(self.fc(out))\n",
        "\n",
        "# Model instantiation\n",
        "model = FakeNewsLSTM(30522, 64, 1).to(device)\n",
        "criterion = nn.BCELoss()\n",
        "optimizer = optim.Adam(model.parameters(), lr=0.001)\n",
        "\n",
        "# Training loop\n",
        "for epoch in range(10):\n",
        "    model.train()\n",
        "    total_loss = 0\n",
        "    for input_ids, attention_mask, labels in train_loader:\n",
        "        input_ids, attention_mask, labels = input_ids.to(device), attention_mask.to(device), labels.to(device)\n",
        "        optimizer.zero_grad()\n",
        "        outputs = model(input_ids).squeeze()\n",
        "        loss = criterion(outputs, labels)\n",
        "        loss.backward()\n",
        "        optimizer.step()\n",
        "        total_loss += loss.item()\n",
        "    print(f'Epoch {epoch+1}, Average Loss: {total_loss / len(train_loader):.4f}')\n",
        "\n",
        "# Evaluation on full test set\n",
        "model.eval()\n",
        "correct, total = 0, 0\n",
        "with torch.no_grad():\n",
        "    for input_ids, attention_mask, labels in test_loader:\n",
        "        input_ids, attention_mask, labels = input_ids.to(device), attention_mask.to(device), labels.to(device)\n",
        "        outputs = model(input_ids).squeeze()\n",
        "        predicted = (outputs > 0.5).long()\n",
        "        total += labels.size(0)\n",
        "        correct += (predicted == labels).sum().item()\n",
        "\n",
        "torch.save(model.state_dict(), 'model.pth')\n",
        "\n",
        "print(f'Final Test Accuracy: {100 * correct / total:.2f}%')\n"
      ]
    },
    {
      "cell_type": "code",
      "execution_count": null,
      "metadata": {
        "colab": {
          "base_uri": "https://localhost:8080/"
        },
        "id": "eJWnYSdyOhjI",
        "outputId": "5f77b22f-aecf-43ff-b435-d5b4cc2ab32e"
      },
      "outputs": [
        {
          "name": "stdout",
          "output_type": "stream",
          "text": [
            "Using device: cuda\n",
            "Epoch 1, Average Loss: 0.6611\n",
            "Epoch 2, Average Loss: 0.5633\n",
            "Epoch 3, Average Loss: 0.6176\n",
            "Epoch 4, Average Loss: 0.5402\n",
            "Epoch 5, Average Loss: 0.6765\n",
            "Epoch 6, Average Loss: 0.4738\n",
            "Epoch 7, Average Loss: 0.2224\n",
            "Epoch 8, Average Loss: 0.1208\n",
            "Epoch 9, Average Loss: 0.1038\n",
            "Epoch 10, Average Loss: 0.1029\n",
            "Epoch 11, Average Loss: 0.0831\n",
            "Epoch 12, Average Loss: 0.0729\n",
            "Epoch 13, Average Loss: 0.0542\n",
            "Epoch 14, Average Loss: 0.0389\n",
            "Epoch 15, Average Loss: 0.0290\n",
            "Epoch 16, Average Loss: 0.0158\n",
            "Epoch 17, Average Loss: 0.0099\n",
            "Epoch 18, Average Loss: 0.0061\n",
            "Epoch 19, Average Loss: 0.0060\n",
            "Epoch 20, Average Loss: 0.0040\n",
            "Final Test Accuracy: 98.53%\n"
          ]
        }
      ],
      "source": [
        "import pandas as pd\n",
        "import torch\n",
        "import torch.nn as nn\n",
        "import torch.optim as optim\n",
        "from sklearn.preprocessing import LabelEncoder\n",
        "from torch.utils.data import DataLoader, Dataset\n",
        "from transformers import BertTokenizer\n",
        "import joblib\n",
        "\n",
        "# Check for GPU\n",
        "device = torch.device('cuda' if torch.cuda.is_available() else 'cpu')\n",
        "print(f'Using device: {device}')\n",
        "\n",
        "# Load the datasets\n",
        "data = pd.read_csv('train.csv', delimiter=';', engine='python', on_bad_lines='skip').head(10000)\n",
        "data2 = pd.read_csv('test (1).csv', delimiter=';', engine='python', on_bad_lines='skip').head(10000)\n",
        "\n",
        "# Drop unnecessary columns\n",
        "data = data.drop(columns=['Unnamed: 0'])\n",
        "data2 = data2.drop(columns=['Unnamed: 0'])\n",
        "\n",
        "# Preprocess text and labels\n",
        "texts = data['text'].astype(str)\n",
        "labels = data['label'].astype(int)\n",
        "\n",
        "texts2 = data2['text'].astype(str)\n",
        "labels2 = data2['label'].astype(int)\n",
        "\n",
        "# Encode labels\n",
        "label_encoder = LabelEncoder()\n",
        "labels = label_encoder.fit_transform(labels)\n",
        "labels2 = label_encoder.transform(labels2)  # Use transform to ensure same encoding\n",
        "\n",
        "# Tokenizer\n",
        "tokenizer = BertTokenizer.from_pretrained('bert-base-uncased')\n",
        "\n",
        "# Custom Dataset\n",
        "class TextDataset(Dataset):\n",
        "    def __init__(self, texts, labels):\n",
        "        self.texts = texts\n",
        "        self.labels = labels\n",
        "\n",
        "    def __len__(self):\n",
        "        return len(self.texts)\n",
        "\n",
        "    def __getitem__(self, idx):\n",
        "        encoding = tokenizer(self.texts[idx], truncation=True, padding='max_length', max_length=200, return_tensors='pt')\n",
        "        label = torch.tensor(self.labels[idx], dtype=torch.float)\n",
        "        return encoding['input_ids'].squeeze(), encoding['attention_mask'].squeeze(), label\n",
        "\n",
        "# Dataloaders\n",
        "train_dataset = TextDataset(texts.tolist(), labels)\n",
        "test_dataset = TextDataset(texts2.tolist(), labels2)\n",
        "train_loader = DataLoader(train_dataset, batch_size=64, shuffle=True)\n",
        "test_loader = DataLoader(test_dataset, batch_size=64)\n",
        "\n",
        "# LSTM Model\n",
        "class FakeNewsLSTM(nn.Module):\n",
        "    def __init__(self, input_dim, hidden_dim, output_dim):\n",
        "        super(FakeNewsLSTM, self).__init__()\n",
        "        self.embedding = nn.Embedding(input_dim, 128)\n",
        "        self.lstm = nn.LSTM(128, hidden_dim, batch_first=True)\n",
        "        self.fc = nn.Linear(hidden_dim, output_dim)\n",
        "        self.dropout = nn.Dropout(0.3)\n",
        "\n",
        "    def forward(self, x):\n",
        "        embedded = self.embedding(x)\n",
        "        lstm_out, _ = self.lstm(embedded)\n",
        "        out = self.dropout(lstm_out[:, -1, :])\n",
        "        return torch.sigmoid(self.fc(out))\n",
        "\n",
        "# Model instantiation\n",
        "model = FakeNewsLSTM(30522, 64, 1).to(device)\n",
        "criterion = nn.BCELoss()\n",
        "optimizer = optim.Adam(model.parameters(), lr=0.001)\n",
        "\n",
        "# Training loop\n",
        "for epoch in range(20):\n",
        "    model.train()\n",
        "    total_loss = 0\n",
        "    for input_ids, attention_mask, labels in train_loader:\n",
        "        input_ids, attention_mask, labels = input_ids.to(device), attention_mask.to(device), labels.to(device)\n",
        "        optimizer.zero_grad()\n",
        "        outputs = model(input_ids).squeeze()\n",
        "        loss = criterion(outputs, labels)\n",
        "        loss.backward()\n",
        "        optimizer.step()\n",
        "        total_loss += loss.item()\n",
        "    print(f'Epoch {epoch+1}, Average Loss: {total_loss / len(train_loader):.4f}')\n",
        "\n",
        "# Evaluation on full test set\n",
        "model.eval()\n",
        "correct, total = 0, 0\n",
        "with torch.no_grad():\n",
        "    for input_ids, attention_mask, labels in test_loader:\n",
        "        input_ids, attention_mask, labels = input_ids.to(device), attention_mask.to(device), labels.to(device)\n",
        "        outputs = model(input_ids).squeeze()\n",
        "        predicted = (outputs > 0.5).long()\n",
        "        total += labels.size(0)\n",
        "        correct += (predicted == labels).sum().item()\n",
        "\n",
        "torch.save(model.state_dict(), 'model.pth')\n",
        "\n",
        "print(f'Final Test Accuracy: {100 * correct / total:.2f}%')\n"
      ]
    },
    {
      "cell_type": "code",
      "source": [
        "import pandas as pd\n",
        "import torch\n",
        "import torch.nn as nn\n",
        "import torch.optim as optim\n",
        "from sklearn.preprocessing import LabelEncoder\n",
        "from sklearn.model_selection import train_test_split\n",
        "from torch.utils.data import DataLoader, Dataset\n",
        "from transformers import BertTokenizer"
      ],
      "metadata": {
        "id": "Yn_psA6NWS9m"
      },
      "execution_count": 11,
      "outputs": []
    },
    {
      "cell_type": "code",
      "source": [
        "# Check for GPU\n",
        "device = torch.device('cuda' if torch.cuda.is_available() else 'cpu')\n",
        "print(f'Using device: {device}')\n",
        "\n",
        "# Load the datasets\n",
        "data = pd.read_csv('train.csv', delimiter=';', engine='python', on_bad_lines='skip')\n",
        "data2 = pd.read_csv('test (1).csv', delimiter=';', engine='python', on_bad_lines='skip')"
      ],
      "metadata": {
        "colab": {
          "base_uri": "https://localhost:8080/"
        },
        "id": "884b9r5gXR0N",
        "outputId": "4de9cc25-5203-4db8-ffd8-daed3a34a4cf"
      },
      "execution_count": 12,
      "outputs": [
        {
          "output_type": "stream",
          "name": "stdout",
          "text": [
            "Using device: cuda\n"
          ]
        }
      ]
    },
    {
      "cell_type": "code",
      "source": [
        "# Drop unnecessary columns\n",
        "data = data.drop(columns=['Unnamed: 0'])\n",
        "data2 = data2.drop(columns=['Unnamed: 0'])\n",
        "\n",
        "# Preprocess text and labels\n",
        "texts = data['text'].astype(str)\n",
        "labels = data['label'].astype(int)\n",
        "texts2 = data2['text'].astype(str)\n",
        "labels2 = data2['label'].astype(int)\n",
        "\n",
        "# Encode labels\n",
        "label_encoder = LabelEncoder()\n",
        "labels = label_encoder.fit_transform(labels)\n",
        "labels2 = label_encoder.transform(labels2)\n",
        "\n",
        "# Tokenizer\n",
        "tokenizer = BertTokenizer.from_pretrained('bert-base-uncased')"
      ],
      "metadata": {
        "id": "Wg9mchnWXYXU"
      },
      "execution_count": 13,
      "outputs": []
    },
    {
      "cell_type": "code",
      "source": [
        "# Custom Dataset\n",
        "class TextDataset(Dataset):\n",
        "    def __init__(self, texts, labels):\n",
        "        self.texts = texts\n",
        "        self.labels = labels\n",
        "\n",
        "    def __len__(self):\n",
        "        return len(self.texts)\n",
        "\n",
        "    def __getitem__(self, idx):\n",
        "        encoding = tokenizer(self.texts[idx], truncation=True, padding='max_length', max_length=200, return_tensors='pt')\n",
        "        label = torch.tensor(self.labels[idx], dtype=torch.float)\n",
        "        return encoding['input_ids'].squeeze(), encoding['attention_mask'].squeeze(), label\n",
        "\n",
        "\n",
        "# Split training data into train and validation\n",
        "train_texts, val_texts, train_labels, val_labels = train_test_split(\n",
        "    texts.tolist(), labels, test_size=0.1, random_state=42\n",
        ")\n",
        "\n",
        "train_dataset = TextDataset(train_texts, train_labels)\n",
        "val_dataset = TextDataset(val_texts, val_labels)\n",
        "test_dataset = TextDataset(texts2.tolist(), labels2)\n",
        "\n",
        "train_loader = DataLoader(train_dataset, batch_size=64, shuffle=True)\n",
        "val_loader = DataLoader(val_dataset, batch_size=64)\n",
        "test_loader = DataLoader(test_dataset, batch_size=64)"
      ],
      "metadata": {
        "id": "s1hAgKc8XhcG"
      },
      "execution_count": 14,
      "outputs": []
    },
    {
      "cell_type": "code",
      "source": [
        "# LSTM Model\n",
        "class FakeNewsLSTM(nn.Module):\n",
        "    def __init__(self, input_dim, hidden_dim, output_dim):\n",
        "        super(FakeNewsLSTM, self).__init__()\n",
        "        self.embedding = nn.Embedding(input_dim, 128)\n",
        "        self.lstm = nn.LSTM(128, hidden_dim, batch_first=True)\n",
        "        self.fc = nn.Linear(hidden_dim, output_dim)\n",
        "        self.dropout = nn.Dropout(0.3)\n",
        "\n",
        "    def forward(self, x):\n",
        "        embedded = self.embedding(x)\n",
        "        lstm_out, _ = self.lstm(embedded)\n",
        "        out = self.dropout(lstm_out[:, -1, :])\n",
        "        return torch.sigmoid(self.fc(out))\n",
        "\n",
        "# Model instantiation\n",
        "model = FakeNewsLSTM(30522, 64, 1).to(device)\n",
        "criterion = nn.BCELoss()\n",
        "optimizer = optim.Adam(model.parameters(), lr=0.001)\n",
        "\n",
        "# Early stopping parameters\n",
        "patience = 3\n",
        "best_val_loss = float('inf')\n",
        "patience_counter = 0\n",
        "\n",
        "# Training loop with early stopping\n",
        "for epoch in range(50):\n",
        "    model.train()\n",
        "    total_loss = 0\n",
        "    for input_ids, attention_mask, labels in train_loader:\n",
        "        input_ids, attention_mask, labels = input_ids.to(device), attention_mask.to(device), labels.to(device)\n",
        "        optimizer.zero_grad()\n",
        "        outputs = model(input_ids).squeeze()\n",
        "        loss = criterion(outputs, labels)\n",
        "        loss.backward()\n",
        "        optimizer.step()\n",
        "        total_loss += loss.item()\n",
        "\n",
        "    # Validation\n",
        "    model.eval()\n",
        "    val_loss = 0\n",
        "    with torch.no_grad():\n",
        "        for input_ids, attention_mask, labels in val_loader:\n",
        "            input_ids, attention_mask, labels = input_ids.to(device), attention_mask.to(device), labels.to(device)\n",
        "            outputs = model(input_ids).squeeze()\n",
        "            loss = criterion(outputs, labels)\n",
        "            val_loss += loss.item()\n",
        "\n",
        "    avg_train_loss = total_loss / len(train_loader)\n",
        "    avg_val_loss = val_loss / len(val_loader)\n",
        "    print(f\"Epoch {epoch+1}, Train Loss: {avg_train_loss:.4f}, Val Loss: {avg_val_loss:.4f}\")\n",
        "\n",
        "    if avg_val_loss < best_val_loss:\n",
        "        best_val_loss = avg_val_loss\n",
        "        patience_counter = 0\n",
        "        torch.save(model.state_dict(), 'best_model.pth')\n",
        "    else:\n",
        "        patience_counter += 1\n",
        "        if patience_counter >= patience:\n",
        "            print(f\"Early stopping triggered at epoch {epoch+1}\")\n",
        "            break\n",
        "\n",
        "# Load the best model\n",
        "model.load_state_dict(torch.load('best_model.pth'))\n",
        "\n",
        "# Final evaluation on test set\n",
        "model.eval()\n",
        "correct, total = 0, 0\n",
        "with torch.no_grad():\n",
        "    for input_ids, attention_mask, labels in test_loader:\n",
        "        input_ids, attention_mask, labels = input_ids.to(device), attention_mask.to(device), labels.to(device)\n",
        "        outputs = model(input_ids).squeeze()\n",
        "        predicted = (outputs > 0.5).long()\n",
        "        total += labels.size(0)\n",
        "        correct += (predicted == labels).sum().item()\n",
        "\n",
        "print(f'Final Test Accuracy: {100 * correct / total:.2f}%')\n"
      ],
      "metadata": {
        "colab": {
          "base_uri": "https://localhost:8080/"
        },
        "id": "rt_5MvW6XnDe",
        "outputId": "c5c78b3b-fcfd-4371-affa-5dc9966e226d"
      },
      "execution_count": 15,
      "outputs": [
        {
          "output_type": "stream",
          "name": "stdout",
          "text": [
            "Epoch 1, Train Loss: 0.5858, Val Loss: 0.4402\n",
            "Epoch 2, Train Loss: 0.4235, Val Loss: 0.3258\n",
            "Epoch 3, Train Loss: 0.4445, Val Loss: 0.4765\n",
            "Epoch 4, Train Loss: 0.3712, Val Loss: 0.2756\n",
            "Epoch 5, Train Loss: 0.3598, Val Loss: 0.4268\n",
            "Epoch 6, Train Loss: 0.3675, Val Loss: 0.3049\n",
            "Epoch 7, Train Loss: 0.2822, Val Loss: 0.1468\n",
            "Epoch 8, Train Loss: 0.0953, Val Loss: 0.1055\n",
            "Epoch 9, Train Loss: 0.0794, Val Loss: 0.1334\n",
            "Epoch 10, Train Loss: 0.0866, Val Loss: 0.1094\n",
            "Epoch 11, Train Loss: 0.0694, Val Loss: 0.1239\n",
            "Early stopping triggered at epoch 11\n",
            "Final Test Accuracy: 98.10%\n"
          ]
        }
      ]
    },
    {
      "cell_type": "code",
      "source": [
        "torch.save(model.state_dict(), 'LSTM.pth')"
      ],
      "metadata": {
        "id": "FyiX1E3LXtFF"
      },
      "execution_count": 16,
      "outputs": []
    },
    {
      "cell_type": "code",
      "execution_count": 17,
      "metadata": {
        "colab": {
          "base_uri": "https://localhost:8080/"
        },
        "id": "xYPjx-OkCNUd",
        "outputId": "7ab05fa6-60fe-488b-8f0d-eead9ee59b06"
      },
      "outputs": [
        {
          "output_type": "execute_result",
          "data": {
            "text/plain": [
              "['label_encoder.joblib']"
            ]
          },
          "metadata": {},
          "execution_count": 17
        }
      ],
      "source": [
        "joblib.dump(label_encoder, 'label_encoder.joblib')"
      ]
    },
    {
      "cell_type": "code",
      "execution_count": 20,
      "metadata": {
        "colab": {
          "base_uri": "https://localhost:8080/",
          "height": 34
        },
        "id": "l8rMKv6IEJeu",
        "outputId": "c08146f3-3d2c-4b1c-845c-abebdb19e8f0"
      },
      "outputs": [
        {
          "output_type": "stream",
          "name": "stdout",
          "text": [
            "All files saved successfully.\n"
          ]
        },
        {
          "output_type": "display_data",
          "data": {
            "text/plain": [
              "<IPython.core.display.Javascript object>"
            ],
            "application/javascript": [
              "\n",
              "    async function download(id, filename, size) {\n",
              "      if (!google.colab.kernel.accessAllowed) {\n",
              "        return;\n",
              "      }\n",
              "      const div = document.createElement('div');\n",
              "      const label = document.createElement('label');\n",
              "      label.textContent = `Downloading \"${filename}\": `;\n",
              "      div.appendChild(label);\n",
              "      const progress = document.createElement('progress');\n",
              "      progress.max = size;\n",
              "      div.appendChild(progress);\n",
              "      document.body.appendChild(div);\n",
              "\n",
              "      const buffers = [];\n",
              "      let downloaded = 0;\n",
              "\n",
              "      const channel = await google.colab.kernel.comms.open(id);\n",
              "      // Send a message to notify the kernel that we're ready.\n",
              "      channel.send({})\n",
              "\n",
              "      for await (const message of channel.messages) {\n",
              "        // Send a message to notify the kernel that we're ready.\n",
              "        channel.send({})\n",
              "        if (message.buffers) {\n",
              "          for (const buffer of message.buffers) {\n",
              "            buffers.push(buffer);\n",
              "            downloaded += buffer.byteLength;\n",
              "            progress.value = downloaded;\n",
              "          }\n",
              "        }\n",
              "      }\n",
              "      const blob = new Blob(buffers, {type: 'application/binary'});\n",
              "      const a = document.createElement('a');\n",
              "      a.href = window.URL.createObjectURL(blob);\n",
              "      a.download = filename;\n",
              "      div.appendChild(a);\n",
              "      a.click();\n",
              "      div.remove();\n",
              "    }\n",
              "  "
            ]
          },
          "metadata": {}
        },
        {
          "output_type": "display_data",
          "data": {
            "text/plain": [
              "<IPython.core.display.Javascript object>"
            ],
            "application/javascript": [
              "download(\"download_78781c8c-f423-4704-b340-12be111562ea\", \"tokenizer.zip\", 111418)"
            ]
          },
          "metadata": {}
        }
      ],
      "source": [
        "tokenizer.save_pretrained('./tokenizer')\n",
        "\n",
        "print(\"All files saved successfully.\")\n",
        "\n",
        "from google.colab import files\n",
        "import shutil\n",
        "'''\n",
        "# Download the model file\n",
        "files.download('best_model.pth')\n",
        "\n",
        "# Download the label encoder\n",
        "files.download('label_encoder.joblib')'''\n",
        "\n",
        "# Zip the tokenizer folder before downloading\n",
        "shutil.make_archive('tokenizer', 'zip', 'tokenizer')\n",
        "\n",
        "# Download the zipped tokenizer folder\n",
        "files.download('tokenizer.zip')\n"
      ]
    },
    {
      "cell_type": "code",
      "source": [
        "from sklearn.metrics import accuracy_score, precision_score, recall_score, f1_score, roc_auc_score, average_precision_score\n",
        "\n",
        "model.load_state_dict(torch.load('best_model.pth'))\n",
        "model.to(device)\n",
        "model.eval()\n",
        "\n",
        "all_labels = []\n",
        "all_probs = []\n",
        "\n",
        "with torch.no_grad():\n",
        "    for input_ids, attention_mask, labels in test_loader:\n",
        "        input_ids, attention_mask, labels = input_ids.to(device), attention_mask.to(device), labels.to(device)\n",
        "        outputs = model(input_ids).squeeze()  # probabilities between 0 and 1\n",
        "        all_probs.extend(outputs.cpu().numpy())\n",
        "        all_labels.extend(labels.cpu().numpy())\n",
        "\n",
        "# Convert probabilities to class predictions\n",
        "preds = [1 if p > 0.5 else 0 for p in all_probs]\n",
        "\n",
        "# Calculate and print metrics\n",
        "print(f'Precision: {precision_score(all_labels, preds):.4f}')\n",
        "print(f'Recall: {recall_score(all_labels, preds):.4f}')\n"
      ],
      "metadata": {
        "colab": {
          "base_uri": "https://localhost:8080/"
        },
        "id": "WGjqfwrsje4e",
        "outputId": "f35c6359-44cb-4f1e-fb4e-8e0e45948d1d"
      },
      "execution_count": 22,
      "outputs": [
        {
          "output_type": "stream",
          "name": "stdout",
          "text": [
            "Precision: 0.9946\n",
            "Recall: 0.9700\n"
          ]
        }
      ]
    },
    {
      "cell_type": "code",
      "source": [
        "print(f'F1 Score: {f1_score(all_labels, preds):.4f}')"
      ],
      "metadata": {
        "colab": {
          "base_uri": "https://localhost:8080/"
        },
        "id": "YabUQziej5OR",
        "outputId": "30017120-8524-4706-9012-2aac2a767f01"
      },
      "execution_count": 23,
      "outputs": [
        {
          "output_type": "stream",
          "name": "stdout",
          "text": [
            "F1 Score: 0.9821\n"
          ]
        }
      ]
    },
    {
      "cell_type": "code",
      "source": [
        "print(f'ROC AUC: {roc_auc_score(all_labels, all_probs):.4f}')\n",
        "print(f'Average Precision (AP): {average_precision_score(all_labels, all_probs):.4f}')"
      ],
      "metadata": {
        "colab": {
          "base_uri": "https://localhost:8080/"
        },
        "id": "uuIb_USnj4EG",
        "outputId": "033e8553-8764-428d-ba2c-bcfe0635332e"
      },
      "execution_count": 24,
      "outputs": [
        {
          "output_type": "stream",
          "name": "stdout",
          "text": [
            "ROC AUC: 0.9912\n",
            "Average Precision (AP): 0.9944\n"
          ]
        }
      ]
    },
    {
      "cell_type": "code",
      "source": [
        "import matplotlib.pyplot as plt\n",
        "from sklearn.metrics import roc_curve, auc\n",
        "\n",
        "# Assuming you have all_labels and all_probs from your test set\n",
        "\n",
        "fpr, tpr, thresholds = roc_curve(all_labels, all_probs)\n",
        "roc_auc = auc(fpr, tpr)\n",
        "\n",
        "plt.figure(figsize=(8,6))\n",
        "plt.plot(fpr, tpr, color='blue', lw=2, label=f'ROC curve (AUC = {roc_auc:.4f})')\n",
        "plt.plot([0, 1], [0, 1], color='gray', lw=1, linestyle='--')\n",
        "plt.xlim([0.0, 1.0])\n",
        "plt.ylim([0.0, 1.05])\n",
        "plt.xlabel('False Positive Rate')\n",
        "plt.ylabel('True Positive Rate')\n",
        "plt.title('Receiver Operating Characteristic (ROC) Curve')\n",
        "plt.legend(loc=\"lower right\")\n",
        "plt.grid(alpha=0.3)\n",
        "plt.show()\n"
      ],
      "metadata": {
        "colab": {
          "base_uri": "https://localhost:8080/",
          "height": 564
        },
        "id": "OBfYCRcij4RH",
        "outputId": "9bbe396b-fa2f-4937-a4c3-29ee181f20ee"
      },
      "execution_count": 25,
      "outputs": [
        {
          "output_type": "display_data",
          "data": {
            "text/plain": [
              "<Figure size 800x600 with 1 Axes>"
            ],
            "image/png": "[encoded data removed]"
          },
          "metadata": {}
        }
      ]
    }
  ],
  "metadata": {
    "accelerator": "GPU",
    "colab": {
      "gpuType": "T4",
      "provenance": []
    },
    "kernelspec": {
      "display_name": "Python 3",
      "name": "python3"
    },
    "language_info": {
      "name": "python"
    }
  },
  "nbformat": 4,
  "nbformat_minor": 0
}
